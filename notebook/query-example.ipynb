{
 "cells": [
  {
   "cell_type": "code",
   "execution_count": null,
   "id": "e4aa4857",
   "metadata": {},
   "outputs": [],
   "source": [
    "import sxobsplan"
   ]
  },
  {
   "cell_type": "code",
   "execution_count": 2,
   "id": "6b396dfe",
   "metadata": {},
   "outputs": [
    {
     "name": "stderr",
     "output_type": "stream",
     "text": [
      "Querying ephemerides...:   0%|          | 0/2 [00:00<?, ?it/s]2025-09-26 13:30:22,478 [INFO] Non-unique id for '1P'. Retrying with record #90000030 ...\n",
      "Querying ephemerides...:  50%|█████     | 1/2 [00:02<00:02,  2.03s/it]2025-09-26 13:30:24,508 [INFO] Non-unique id for '2P'. Retrying with record #90000091 ...\n",
      "Querying ephemerides...: 100%|██████████| 2/2 [00:04<00:00,  2.04s/it]\n"
     ]
    }
   ],
   "source": [
    "epochs = {\"start\": \"2025-08-01\", \"stop\": \"2026-01-31\", \"step\": \"3d\"}\n",
    "\n",
    "eph_table = sxobsplan.batch_query(\n",
    "    [\"1P\", \"2P\"],\n",
    "    epochs=epochs,\n",
    "    quantities=\"1,3,9,18,19,20,22,23,24,25,27,28,29,33,43\",\n",
    "    location=\"500\",   # geocenter; e.g., 'T15' Gemini North, 'I11' Gemini South\n",
    "    limit=5           # optional: only first 5 targets\n",
    ")"
   ]
  },
  {
   "cell_type": "code",
   "execution_count": 3,
   "id": "e4dafe8a",
   "metadata": {},
   "outputs": [
    {
     "data": {
      "text/html": [
       "<div><i>Table length=124</i>\n",
       "<table id=\"table5361708928\" class=\"table-striped table-bordered table-condensed\">\n",
       "<thead><tr><th>targetname</th><th>datetime_str</th><th>datetime_jd</th><th>M1</th><th>M2</th><th>k1</th><th>k2</th><th>phasecoeff</th><th>solar_presence</th><th>lunar_presence</th><th>RA</th><th>DEC</th><th>RA_rate</th><th>DEC_rate</th><th>Tmag</th><th>Nmag</th><th>EclLon</th><th>EclLat</th><th>r</th><th>r_rate</th><th>delta</th><th>delta_rate</th><th>vel_sun</th><th>vel_obs</th><th>elong</th><th>elongFlag</th><th>alpha</th><th>lunar_elong</th><th>lunar_illum</th><th>sunTargetPA</th><th>velocityPA</th><th>OrbPlaneAng</th><th>constellation</th><th>GlxLon</th><th>GlxLat</th><th>alpha_true</th><th>PABLon</th><th>PABLat</th><th>ID</th><th>Name</th></tr></thead>\n",
       "<thead><tr><th>---</th><th>---</th><th>d</th><th>mag</th><th>mag</th><th>---</th><th>---</th><th>mag / deg</th><th>---</th><th>---</th><th>deg</th><th>deg</th><th>arcsec / h</th><th>arcsec / h</th><th>mag</th><th>mag</th><th>deg</th><th>deg</th><th>AU</th><th>km / s</th><th>AU</th><th>km / s</th><th>km / s</th><th>km / s</th><th>deg</th><th>---</th><th>deg</th><th>deg</th><th>%</th><th>deg</th><th>deg</th><th>deg</th><th>---</th><th>deg</th><th>deg</th><th>deg</th><th>deg</th><th>deg</th><th></th><th></th></tr></thead>\n",
       "<thead><tr><th>str9</th><th>str17</th><th>float64</th><th>float64</th><th>float64</th><th>float64</th><th>float64</th><th>float64</th><th>str1</th><th>str1</th><th>float64</th><th>float64</th><th>float64</th><th>float64</th><th>float64</th><th>float64</th><th>float64</th><th>float64</th><th>float64</th><th>float64</th><th>float64</th><th>float64</th><th>float64</th><th>float64</th><th>float64</th><th>str2</th><th>float64</th><th>float64</th><th>float64</th><th>float64</th><th>float64</th><th>float64</th><th>str3</th><th>float64</th><th>float64</th><th>float64</th><th>float64</th><th>float64</th><th>int64</th><th>str2</th></tr></thead>\n",
       "<tr><td>1P/Halley</td><td>2025-Aug-01 00:00</td><td>2460888.5</td><td>5.5</td><td>13.6</td><td>8.0</td><td>5.0</td><td>0.03</td><td></td><td></td><td>124.14129</td><td>3.38084</td><td>3.786392</td><td>-0.96494</td><td>25.649</td><td>29.126</td><td>125.5456</td><td>-16.3889</td><td>35.10082806205</td><td>-0.2469953</td><td>36.0742961141424</td><td>-1.9567048</td><td>0.9350942</td><td>28.4653453</td><td>16.2109</td><td>/L</td><td>0.4616</td><td>86.4</td><td>45.1201</td><td>204.349</td><td>110.701</td><td>-0.46076</td><td>Hya</td><td>219.837877</td><td>20.443669</td><td>0.4625</td><td>125.5914</td><td>-16.1619</td><td>1</td><td>1P</td></tr>\n",
       "<tr><td>1P/Halley</td><td>2025-Aug-04 00:00</td><td>2460891.5</td><td>5.5</td><td>13.6</td><td>8.0</td><td>5.0</td><td>0.03</td><td></td><td></td><td>124.21692</td><td>3.36119</td><td>3.757721</td><td>-1.01602</td><td>25.648</td><td>29.127</td><td>125.5429</td><td>-16.3886</td><td>35.10039902303</td><td>-0.2482421</td><td>36.0696988340516</td><td>-3.348556</td><td>0.9353971</td><td>28.4847834</td><td>16.9383</td><td>/L</td><td>0.4807</td><td>119.8</td><td>72.8038</td><td>213.829</td><td>110.708</td><td>-0.46856</td><td>Hya</td><td>219.893917</td><td>20.501402</td><td>0.4825</td><td>125.6307</td><td>-16.1625</td><td>1</td><td>1P</td></tr>\n",
       "<tr><td>1P/Halley</td><td>2025-Aug-07 00:00</td><td>2460894.5</td><td>5.5</td><td>13.6</td><td>8.0</td><td>5.0</td><td>0.03</td><td></td><td></td><td>124.29189</td><td>3.34053</td><td>3.720236</td><td>-1.06459</td><td>25.648</td><td>29.127</td><td>125.5403</td><td>-16.3883</td><td>35.09996782119</td><td>-0.2494896</td><td>36.0626979289867</td><td>-4.7308521</td><td>0.9357015</td><td>28.5093953</td><td>18.0624</td><td>/L</td><td>0.5108</td><td>151.6</td><td>93.8432</td><td>222.365</td><td>110.715</td><td>-0.47519</td><td>Hya</td><td>219.95062</td><td>20.558082</td><td>0.5132</td><td>125.6698</td><td>-16.1637</td><td>1</td><td>1P</td></tr>\n",
       "<tr><td>1P/Halley</td><td>2025-Aug-10 00:00</td><td>2460897.5</td><td>5.5</td><td>13.6</td><td>8.0</td><td>5.0</td><td>0.03</td><td></td><td></td><td>124.36602</td><td>3.31893</td><td>3.674286</td><td>-1.11072</td><td>25.647</td><td>29.128</td><td>125.5377</td><td>-16.388</td><td>35.0995344553</td><td>-0.2507378</td><td>36.0533113909691</td><td>-6.1022358</td><td>0.9360075</td><td>28.5413076</td><td>19.516</td><td>/L</td><td>0.5497</td><td>153.4</td><td>99.4299</td><td>229.812</td><td>110.721</td><td>-0.48065</td><td>Hya</td><td>220.007851</td><td>20.613578</td><td>0.5527</td><td>125.7085</td><td>-16.1655</td><td>1</td><td>1P</td></tr>\n",
       "<tr><td>1P/Halley</td><td>2025-Aug-13 00:00</td><td>2460900.5</td><td>5.5</td><td>13.6</td><td>8.0</td><td>5.0</td><td>0.03</td><td></td><td></td><td>124.43914</td><td>3.29642</td><td>3.620002</td><td>-1.15453</td><td>25.646</td><td>29.128</td><td>125.535</td><td>-16.3877</td><td>35.09909892401</td><td>-0.2519868</td><td>36.0415579059919</td><td>-7.4632199</td><td>0.9363149</td><td>28.5818766</td><td>21.2329</td><td>/L</td><td>0.5955</td><td>117.7</td><td>83.9028</td><td>236.192</td><td>110.727</td><td>-0.48492</td><td>Hya</td><td>220.065483</td><td>20.667764</td><td>0.5989</td><td>125.7469</td><td>-16.1677</td><td>1</td><td>1P</td></tr>\n",
       "<tr><td>1P/Halley</td><td>2025-Aug-16 00:00</td><td>2460903.5</td><td>5.5</td><td>13.6</td><td>8.0</td><td>5.0</td><td>0.03</td><td></td><td></td><td>124.5111</td><td>3.27306</td><td>3.557068</td><td>-1.19596</td><td>25.645</td><td>29.129</td><td>125.5324</td><td>-16.3873</td><td>35.09866122577</td><td>-0.2532368</td><td>36.0274547578755</td><td>-8.814374</td><td>0.9366238</td><td>28.6297599</td><td>23.1565</td><td>/L</td><td>0.6463</td><td>77.8</td><td>52.6198</td><td>241.621</td><td>110.733</td><td>-0.48798</td><td>Hya</td><td>220.123387</td><td>20.72051</td><td>0.65</td><td>125.7848</td><td>-16.1706</td><td>1</td><td>1P</td></tr>\n",
       "<tr><td>1P/Halley</td><td>2025-Aug-19 00:00</td><td>2460906.5</td><td>5.5</td><td>13.6</td><td>8.0</td><td>5.0</td><td>0.03</td><td></td><td></td><td>124.5817</td><td>3.2489</td><td>3.484918</td><td>-1.23477</td><td>25.644</td><td>29.13</td><td>125.5298</td><td>-16.387</td><td>35.0982213588</td><td>-0.2544878</td><td>36.0110205265667</td><td>-10.1532644</td><td>0.9369344</td><td>28.6811715</td><td>25.2412</td><td>/L</td><td>0.7006</td><td>39.3</td><td>20.4014</td><td>246.239</td><td>110.738</td><td>-0.48983</td><td>Hya</td><td>220.181426</td><td>20.771682</td><td>0.7044</td><td>125.8221</td><td>-16.1739</td><td>1</td><td>1P</td></tr>\n",
       "<tr><td>1P/Halley</td><td>2025-Aug-22 00:00</td><td>2460909.5</td><td>5.5</td><td>13.6</td><td>8.0</td><td>5.0</td><td>0.03</td><td></td><td></td><td>124.65076</td><td>3.22398</td><td>3.403202</td><td>-1.27055</td><td>25.643</td><td>29.13</td><td>125.5271</td><td>-16.3867</td><td>35.09777932101</td><td>-0.2557402</td><td>35.9922811887672</td><td>-11.473984</td><td>0.9372468</td><td>28.7323338</td><td>27.4519</td><td>/L</td><td>0.7572</td><td>20.3</td><td>1.8476</td><td>250.188</td><td>110.742</td><td>-0.49044</td><td>Hya</td><td>220.239453</td><td>20.82114</td><td>0.7611</td><td>125.8587</td><td>-16.1778</td><td>1</td><td>1P</td></tr>\n",
       "<tr><td>1P/Halley</td><td>2025-Aug-25 00:00</td><td>2460912.5</td><td>5.5</td><td>13.6</td><td>8.0</td><td>5.0</td><td>0.03</td><td></td><td></td><td>124.71809</td><td>3.19838</td><td>3.312034</td><td>-1.303</td><td>25.642</td><td>29.131</td><td>125.5245</td><td>-16.3864</td><td>35.09733511004</td><td>-0.256994</td><td>35.9712744941498</td><td>-12.7693301</td><td>0.9375614</td><td>28.7815549</td><td>29.7619</td><td>/L</td><td>0.815</td><td>48.0</td><td>3.2142</td><td>253.587</td><td>110.746</td><td>-0.48981</td><td>Hya</td><td>220.297311</td><td>20.868742</td><td>0.8191</td><td>125.8945</td><td>-16.1823</td><td>1</td><td>1P</td></tr>\n",
       "<tr><td>...</td><td>...</td><td>...</td><td>...</td><td>...</td><td>...</td><td>...</td><td>...</td><td>...</td><td>...</td><td>...</td><td>...</td><td>...</td><td>...</td><td>...</td><td>...</td><td>...</td><td>...</td><td>...</td><td>...</td><td>...</td><td>...</td><td>...</td><td>...</td><td>...</td><td>...</td><td>...</td><td>...</td><td>...</td><td>...</td><td>...</td><td>...</td><td>...</td><td>...</td><td>...</td><td>...</td><td>...</td><td>...</td><td>...</td><td>...</td></tr>\n",
       "<tr><td>2P/Encke</td><td>2026-Jan-07 00:00</td><td>2461047.5</td><td>15.6</td><td>--</td><td>4.5</td><td>--</td><td>--</td><td></td><td></td><td>339.49864</td><td>-5.45489</td><td>24.8545</td><td>9.960432</td><td>21.361</td><td>--</td><td>350.9784</td><td>3.3503</td><td>3.778852270772</td><td>-5.5381244</td><td>4.29213684973623</td><td>17.3775686</td><td>8.3399801</td><td>28.9485362</td><td>52.7502</td><td>/T</td><td>11.9566</td><td>173.6</td><td>83.9877</td><td>65.853</td><td>234.213</td><td>-1.89195</td><td>Aqr</td><td>61.208129</td><td>-51.563583</td><td>11.9531</td><td>344.9937</td><td>3.1673</td><td>2</td><td>2P</td></tr>\n",
       "<tr><td>2P/Encke</td><td>2026-Jan-10 00:00</td><td>2461050.5</td><td>15.6</td><td>--</td><td>4.5</td><td>--</td><td>--</td><td></td><td></td><td>340.00749</td><td>-5.25151</td><td>25.78599</td><td>10.4228</td><td>21.371</td><td>--</td><td>351.1399</td><td>3.3812</td><td>3.769179303046</td><td>-5.6281266</td><td>4.32150595199423</td><td>16.5161976</td><td>8.411882</td><td>29.3100807</td><td>50.2455</td><td>/T</td><td>11.5735</td><td>147.6</td><td>56.5314</td><td>65.566</td><td>234.291</td><td>-1.78424</td><td>Aqr</td><td>61.972278</td><td>-51.834742</td><td>11.5698</td><td>345.3478</td><td>3.1814</td><td>2</td><td>2P</td></tr>\n",
       "<tr><td>2P/Encke</td><td>2026-Jan-13 00:00</td><td>2461053.5</td><td>15.6</td><td>--</td><td>4.5</td><td>--</td><td>--</td><td></td><td></td><td>340.53444</td><td>-5.03902</td><td>26.67247</td><td>10.87199</td><td>21.38</td><td>--</td><td>351.3024</td><td>3.4122</td><td>3.759350009857</td><td>-5.71855</td><td>4.34934955477445</td><td>15.6167994</td><td>8.4846965</td><td>29.678409</td><td>47.7614</td><td>/T</td><td>11.1711</td><td>112.3</td><td>28.5979</td><td>65.265</td><td>234.377</td><td>-1.67355</td><td>Aqr</td><td>62.775466</td><td>-52.109621</td><td>11.1672</td><td>345.7124</td><td>3.1959</td><td>2</td><td>2P</td></tr>\n",
       "<tr><td>2P/Encke</td><td>2026-Jan-16 00:00</td><td>2461056.5</td><td>15.6</td><td>--</td><td>4.5</td><td>--</td><td>--</td><td></td><td></td><td>341.07855</td><td>-4.81768</td><td>27.51313</td><td>11.30708</td><td>21.388</td><td>--</td><td>351.4656</td><td>3.4434</td><td>3.749363650836</td><td>-5.8094045</td><td>4.37560259649793</td><td>14.6805086</td><td>8.5584266</td><td>30.0507768</td><td>45.2975</td><td>/T</td><td>10.7504</td><td>77.3</td><td>7.6922</td><td>64.945</td><td>234.469</td><td>-1.56012</td><td>Aqr</td><td>63.617424</td><td>-52.386993</td><td>10.7464</td><td>346.0872</td><td>3.211</td><td>2</td><td>2P</td></tr>\n",
       "<tr><td>2P/Encke</td><td>2026-Jan-19 00:00</td><td>2461059.5</td><td>15.6</td><td>--</td><td>4.5</td><td>--</td><td>--</td><td></td><td></td><td>341.63888</td><td>-4.58779</td><td>28.30713</td><td>11.72703</td><td>21.395</td><td>--</td><td>351.6298</td><td>3.4747</td><td>3.739219468535</td><td>-5.9006998</td><td>4.40020276339102</td><td>13.7093303</td><td>8.6330758</td><td>30.4246944</td><td>42.8533</td><td>/T</td><td>10.3125</td><td>41.2</td><td>0.1094</td><td>64.605</td><td>234.567</td><td>-1.44418</td><td>Aqr</td><td>64.497792</td><td>-52.66562</td><td>10.3083</td><td>346.4716</td><td>3.2267</td><td>2</td><td>2P</td></tr>\n",
       "<tr><td>2P/Encke</td><td>2026-Jan-22 00:00</td><td>2461062.5</td><td>15.6</td><td>--</td><td>4.5</td><td>--</td><td>--</td><td></td><td></td><td>342.21449</td><td>-4.34967</td><td>29.05352</td><td>12.13061</td><td>21.401</td><td>--</td><td>351.7949</td><td>3.5061</td><td>3.728916688098</td><td>-5.9924462</td><td>4.42309219414889</td><td>12.7065294</td><td>8.708648</td><td>30.7978831</td><td>40.4286</td><td>/T</td><td>9.8583</td><td>4.196</td><td>10.3091</td><td>64.241</td><td>234.671</td><td>-1.32597</td><td>Aqr</td><td>65.416104</td><td>-52.94425</td><td>9.854</td><td>346.8652</td><td>3.2429</td><td>2</td><td>2P</td></tr>\n",
       "<tr><td>2P/Encke</td><td>2026-Jan-25 00:00</td><td>2461065.5</td><td>15.6</td><td>--</td><td>4.5</td><td>--</td><td>--</td><td></td><td></td><td>342.8044</td><td>-4.10364</td><td>29.75221</td><td>12.51695</td><td>21.406</td><td>--</td><td>351.9609</td><td>3.5377</td><td>3.718454516948</td><td>-6.0846541</td><td>4.44422021911753</td><td>11.6771471</td><td>8.7851475</td><td>31.1692044</td><td>38.0233</td><td>/T</td><td>9.389</td><td>36.6</td><td>36.8275</td><td>63.848</td><td>234.78</td><td>-1.20572</td><td>Aqr</td><td>66.371777</td><td>-53.22163</td><td>9.3845</td><td>347.2675</td><td>3.2597</td><td>2</td><td>2P</td></tr>\n",
       "<tr><td>2P/Encke</td><td>2026-Jan-28 00:00</td><td>2461068.5</td><td>15.6</td><td>--</td><td>4.5</td><td>--</td><td>--</td><td></td><td></td><td>343.40767</td><td>-3.85005</td><td>30.40537</td><td>12.88634</td><td>21.409</td><td>--</td><td>352.1279</td><td>3.5695</td><td>3.70783214447</td><td>-6.1773341</td><td>4.4635460274878</td><td>10.6272808</td><td>8.8625792</td><td>31.5395992</td><td>35.6371</td><td>/T</td><td>8.9056</td><td>78.0</td><td>70.187</td><td>63.421</td><td>234.894</td><td>-1.08368</td><td>Aqr</td><td>67.364152</td><td>-53.496521</td><td>8.9009</td><td>347.6779</td><td>3.277</td><td>2</td><td>2P</td></tr>\n",
       "<tr><td>2P/Encke</td><td>2026-Jan-31 00:00</td><td>2461071.5</td><td>15.6</td><td>--</td><td>4.5</td><td>--</td><td>--</td><td></td><td></td><td>344.02344</td><td>-3.58923</td><td>31.01803</td><td>13.24075</td><td>21.412</td><td>--</td><td>352.2959</td><td>3.6014</td><td>3.69704874163</td><td>-6.270497</td><td>4.48103887593341</td><td>9.5620061</td><td>8.9409483</td><td>31.9121171</td><td>33.2695</td><td>/T</td><td>8.409</td><td>120.8</td><td>94.9731</td><td>62.952</td><td>235.013</td><td>-0.96004</td><td>Aqr</td><td>68.392583</td><td>-53.767727</td><td>8.4042</td><td>348.0961</td><td>3.295</td><td>2</td><td>2P</td></tr>\n",
       "</table></div>"
      ],
      "text/plain": [
       "<Table length=124>\n",
       "targetname    datetime_str   datetime_jd    M1   ...  PABLat    ID  Name\n",
       "   ---            ---             d        mag   ...   deg              \n",
       "   str9          str17         float64   float64 ... float64  int64 str2\n",
       "---------- ----------------- ----------- ------- ... -------- ----- ----\n",
       " 1P/Halley 2025-Aug-01 00:00   2460888.5     5.5 ... -16.1619     1   1P\n",
       " 1P/Halley 2025-Aug-04 00:00   2460891.5     5.5 ... -16.1625     1   1P\n",
       " 1P/Halley 2025-Aug-07 00:00   2460894.5     5.5 ... -16.1637     1   1P\n",
       " 1P/Halley 2025-Aug-10 00:00   2460897.5     5.5 ... -16.1655     1   1P\n",
       " 1P/Halley 2025-Aug-13 00:00   2460900.5     5.5 ... -16.1677     1   1P\n",
       " 1P/Halley 2025-Aug-16 00:00   2460903.5     5.5 ... -16.1706     1   1P\n",
       " 1P/Halley 2025-Aug-19 00:00   2460906.5     5.5 ... -16.1739     1   1P\n",
       " 1P/Halley 2025-Aug-22 00:00   2460909.5     5.5 ... -16.1778     1   1P\n",
       " 1P/Halley 2025-Aug-25 00:00   2460912.5     5.5 ... -16.1823     1   1P\n",
       "       ...               ...         ...     ... ...      ...   ...  ...\n",
       "  2P/Encke 2026-Jan-07 00:00   2461047.5    15.6 ...   3.1673     2   2P\n",
       "  2P/Encke 2026-Jan-10 00:00   2461050.5    15.6 ...   3.1814     2   2P\n",
       "  2P/Encke 2026-Jan-13 00:00   2461053.5    15.6 ...   3.1959     2   2P\n",
       "  2P/Encke 2026-Jan-16 00:00   2461056.5    15.6 ...    3.211     2   2P\n",
       "  2P/Encke 2026-Jan-19 00:00   2461059.5    15.6 ...   3.2267     2   2P\n",
       "  2P/Encke 2026-Jan-22 00:00   2461062.5    15.6 ...   3.2429     2   2P\n",
       "  2P/Encke 2026-Jan-25 00:00   2461065.5    15.6 ...   3.2597     2   2P\n",
       "  2P/Encke 2026-Jan-28 00:00   2461068.5    15.6 ...    3.277     2   2P\n",
       "  2P/Encke 2026-Jan-31 00:00   2461071.5    15.6 ...    3.295     2   2P"
      ]
     },
     "execution_count": 3,
     "metadata": {},
     "output_type": "execute_result"
    }
   ],
   "source": [
    "eph_table"
   ]
  },
  {
   "cell_type": "code",
   "execution_count": 4,
   "id": "e25130b2",
   "metadata": {},
   "outputs": [
    {
     "name": "stderr",
     "output_type": "stream",
     "text": [
      "2025-09-26 13:30:27,149 [INFO] Non-unique id for '1P'. Retrying with record #90000030 ...\n"
     ]
    },
    {
     "name": "stdout",
     "output_type": "stream",
     "text": [
      "targetname    datetime_str   datetime_jd  M1 ...     RA      DEC    Tmag   Nmag \n",
      "   ---            ---             d      mag ...    deg      deg    mag    mag  \n",
      "---------- ----------------- ----------- --- ... --------- ------- ------ ------\n",
      " 1P/Halley 2025-Aug-01 00:00   2460888.5 5.5 ... 124.14129 3.38084 25.649 29.126\n",
      " 1P/Halley 2025-Aug-04 00:00   2460891.5 5.5 ... 124.21692 3.36119 25.648 29.127\n",
      " 1P/Halley 2025-Aug-07 00:00   2460894.5 5.5 ... 124.29189 3.34053 25.648 29.127\n",
      " 1P/Halley 2025-Aug-10 00:00   2460897.5 5.5 ... 124.36602 3.31893 25.647 29.128\n",
      " 1P/Halley 2025-Aug-13 00:00   2460900.5 5.5 ... 124.43914 3.29642 25.646 29.128\n"
     ]
    }
   ],
   "source": [
    "eph = sxobsplan.fetch_with_fallback(\n",
    "    designation=\"1P\",\n",
    "    epochs=epochs,\n",
    "    quantities=\"1,9\",\n",
    "    location=\"500\"\n",
    ")\n",
    "\n",
    "print(eph[:5])"
   ]
  }
 ],
 "metadata": {
  "kernelspec": {
   "display_name": "spherex",
   "language": "python",
   "name": "python3"
  },
  "language_info": {
   "codemirror_mode": {
    "name": "ipython",
    "version": 3
   },
   "file_extension": ".py",
   "mimetype": "text/x-python",
   "name": "python",
   "nbconvert_exporter": "python",
   "pygments_lexer": "ipython3",
   "version": "3.10.18"
  }
 },
 "nbformat": 4,
 "nbformat_minor": 5
}
